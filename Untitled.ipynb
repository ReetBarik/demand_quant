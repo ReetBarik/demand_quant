{
 "cells": [
  {
   "cell_type": "code",
   "execution_count": 21,
   "metadata": {
    "collapsed": true
   },
   "outputs": [],
   "source": [
    "import pandas as pd"
   ]
  },
  {
   "cell_type": "code",
   "execution_count": 24,
   "metadata": {
    "collapsed": false
   },
   "outputs": [
    {
     "data": {
      "text/plain": [
       "'19 '"
      ]
     },
     "execution_count": 24,
     "metadata": {},
     "output_type": "execute_result"
    }
   ],
   "source": [
    "age = 19\n",
    "f'{age} '"
   ]
  },
  {
   "cell_type": "code",
   "execution_count": 25,
   "metadata": {
    "collapsed": false
   },
   "outputs": [],
   "source": [
    "file1 = pd.read_excel('master.xlsx')"
   ]
  },
  {
   "cell_type": "code",
   "execution_count": 105,
   "metadata": {
    "collapsed": false
   },
   "outputs": [
    {
     "name": "stdout",
     "output_type": "stream",
     "text": [
      "   Id\n",
      "0   8\n",
      "1   2\n",
      "2   9\n",
      "3  10\n",
      "4   4\n"
     ]
    }
   ],
   "source": [
    "df_lst = []\n",
    "for i in range(1, 9):\n",
    "    filename = f'l{i}.xlsx'\n",
    "    df = pd.read_excel(filename, header=None, names=['Id'])\n",
    "    df_lst.append(df)\n",
    "    \n",
    "print(df_lst[7].head())"
   ]
  },
  {
   "cell_type": "code",
   "execution_count": 106,
   "metadata": {
    "collapsed": false
   },
   "outputs": [
    {
     "data": {
      "text/plain": [
       "Type\n",
       "D    640000\n",
       "I    990000\n",
       "Name: BasePrice, dtype: int64"
      ]
     },
     "execution_count": 106,
     "metadata": {},
     "output_type": "execute_result"
    }
   ],
   "source": [
    "pd.groupby(file1, 'Type')['BasePrice'].mean()"
   ]
  },
  {
   "cell_type": "code",
   "execution_count": 107,
   "metadata": {
    "collapsed": false
   },
   "outputs": [
    {
     "data": {
      "text/html": [
       "<div>\n",
       "<table border=\"1\" class=\"dataframe\">\n",
       "  <thead>\n",
       "    <tr style=\"text-align: right;\">\n",
       "      <th></th>\n",
       "      <th>Id</th>\n",
       "    </tr>\n",
       "  </thead>\n",
       "  <tbody>\n",
       "    <tr>\n",
       "      <th>0</th>\n",
       "      <td>2</td>\n",
       "    </tr>\n",
       "    <tr>\n",
       "      <th>1</th>\n",
       "      <td>1</td>\n",
       "    </tr>\n",
       "    <tr>\n",
       "      <th>2</th>\n",
       "      <td>3</td>\n",
       "    </tr>\n",
       "    <tr>\n",
       "      <th>3</th>\n",
       "      <td>4</td>\n",
       "    </tr>\n",
       "    <tr>\n",
       "      <th>4</th>\n",
       "      <td>5</td>\n",
       "    </tr>\n",
       "  </tbody>\n",
       "</table>\n",
       "</div>"
      ],
      "text/plain": [
       "   Id\n",
       "0   2\n",
       "1   1\n",
       "2   3\n",
       "3   4\n",
       "4   5"
      ]
     },
     "execution_count": 107,
     "metadata": {},
     "output_type": "execute_result"
    }
   ],
   "source": [
    "df_lst[0].head()"
   ]
  },
  {
   "cell_type": "code",
   "execution_count": 108,
   "metadata": {
    "collapsed": true
   },
   "outputs": [],
   "source": [
    "df1 = df_lst[0]"
   ]
  },
  {
   "cell_type": "code",
   "execution_count": 109,
   "metadata": {
    "collapsed": false
   },
   "outputs": [
    {
     "data": {
      "text/plain": [
       "RangeIndex(start=0, stop=6, step=1)"
      ]
     },
     "execution_count": 109,
     "metadata": {},
     "output_type": "execute_result"
    }
   ],
   "source": [
    "df1.index"
   ]
  },
  {
   "cell_type": "code",
   "execution_count": 110,
   "metadata": {
    "collapsed": false
   },
   "outputs": [],
   "source": [
    "d1 = df1.to_dict()['Id']"
   ]
  },
  {
   "cell_type": "code",
   "execution_count": 111,
   "metadata": {
    "collapsed": false
   },
   "outputs": [
    {
     "data": {
      "text/plain": [
       "{0: 2, 1: 1, 2: 3, 3: 4, 4: 5, 5: 7}"
      ]
     },
     "execution_count": 111,
     "metadata": {},
     "output_type": "execute_result"
    }
   ],
   "source": [
    "d1"
   ]
  },
  {
   "cell_type": "code",
   "execution_count": 115,
   "metadata": {
    "collapsed": true
   },
   "outputs": [],
   "source": [
    "OFFSET = 17\n",
    "LIMIT = 16\n",
    "\n",
    "class Franchise:\n",
    "    def __init__(self, id_, lst_players=[]):\n",
    "        self.pl_lst = lst_players\n",
    "        self.bought_lst = []\n",
    "        self.value_dict = {}\n",
    "        self.id = id_\n",
    "        check_lst()\n",
    "        self.num_bought = 0\n",
    "\n",
    "    \n",
    "    def assign_values(self):\n",
    "        for p_id in values:\n",
    "            if p_id in self.pl_lst:\n",
    "                values[p_id] += self.pl_lst.index(p_id) + 1\n",
    "            else:\n",
    "                values[p_id] += OFFSET\n",
    "    \n",
    "    def check_lst():\n",
    "        # check for validity\n",
    "        flag = False\n",
    "        for pid in pl_lst:\n",
    "            if pid not in values:\n",
    "                print(f'Player id {pid} is not unsold')\n",
    "                flag = True\n",
    "        if flag:\n",
    "            self.update_list()\n",
    "    \n",
    "    def update_list():\n",
    "        "
   ]
  },
  {
   "cell_type": "code",
   "execution_count": 116,
   "metadata": {
    "collapsed": false
   },
   "outputs": [
    {
     "data": {
      "text/plain": [
       "2"
      ]
     },
     "execution_count": 116,
     "metadata": {},
     "output_type": "execute_result"
    }
   ],
   "source": [
    "[1, 2, 3, 4].index(3)"
   ]
  },
  {
   "cell_type": "code",
   "execution_count": 86,
   "metadata": {
    "collapsed": true
   },
   "outputs": [],
   "source": [
    "unsold_df = pd.read_excel('Unsold.xlsx')"
   ]
  },
  {
   "cell_type": "code",
   "execution_count": 92,
   "metadata": {
    "collapsed": false
   },
   "outputs": [],
   "source": [
    "values = {}\n",
    "for pid in unsold_df['Id']:\n",
    "    values[pid] = 0"
   ]
  },
  {
   "cell_type": "code",
   "execution_count": 93,
   "metadata": {
    "collapsed": false
   },
   "outputs": [
    {
     "data": {
      "text/plain": [
       "{1: 0, 2: 0, 3: 0, 4: 0, 5: 0, 6: 0, 7: 0, 8: 0, 9: 0, 10: 0, 11: 0}"
      ]
     },
     "execution_count": 93,
     "metadata": {},
     "output_type": "execute_result"
    }
   ],
   "source": [
    "values"
   ]
  },
  {
   "cell_type": "code",
   "execution_count": 125,
   "metadata": {
    "collapsed": false
   },
   "outputs": [],
   "source": [
    "f1 = Franchise(1, list(d1.values()))"
   ]
  },
  {
   "cell_type": "code",
   "execution_count": 118,
   "metadata": {
    "collapsed": false
   },
   "outputs": [
    {
     "data": {
      "text/plain": [
       "[2, 1, 3, 4, 5, 7]"
      ]
     },
     "execution_count": 118,
     "metadata": {},
     "output_type": "execute_result"
    }
   ],
   "source": [
    "f1.pl_lst"
   ]
  },
  {
   "cell_type": "code",
   "execution_count": 119,
   "metadata": {
    "collapsed": false
   },
   "outputs": [],
   "source": [
    "f1.assign_values()"
   ]
  },
  {
   "cell_type": "code",
   "execution_count": 123,
   "metadata": {
    "collapsed": false
   },
   "outputs": [
    {
     "data": {
      "text/plain": [
       "[(1, 2),\n",
       " (2, 1),\n",
       " (3, 3),\n",
       " (4, 4),\n",
       " (5, 5),\n",
       " (6, 12),\n",
       " (7, 6),\n",
       " (8, 12),\n",
       " (9, 12),\n",
       " (10, 12),\n",
       " (11, 12)]"
      ]
     },
     "execution_count": 123,
     "metadata": {},
     "output_type": "execute_result"
    }
   ],
   "source": [
    "sorted(values.items())"
   ]
  },
  {
   "cell_type": "code",
   "execution_count": 127,
   "metadata": {
    "collapsed": true
   },
   "outputs": [],
   "source": [
    "df2 = df_lst[1]\n",
    "d2 = df2.to_dict()['Id']\n",
    "f2 = Franchise(2, list(d2.values()))\n",
    "f2.assign_values()"
   ]
  },
  {
   "cell_type": "code",
   "execution_count": 130,
   "metadata": {
    "collapsed": false
   },
   "outputs": [
    {
     "data": {
      "text/plain": [
       "[(1, 3),\n",
       " (2, 3),\n",
       " (3, 6),\n",
       " (4, 8),\n",
       " (5, 10),\n",
       " (6, 24),\n",
       " (7, 18),\n",
       " (8, 20),\n",
       " (9, 19),\n",
       " (10, 18),\n",
       " (11, 24)]"
      ]
     },
     "execution_count": 130,
     "metadata": {},
     "output_type": "execute_result"
    }
   ],
   "source": [
    "sorted(values.items())"
   ]
  },
  {
   "cell_type": "code",
   "execution_count": 131,
   "metadata": {
    "collapsed": false
   },
   "outputs": [
    {
     "data": {
      "text/plain": [
       "[(1, 8),\n",
       " (2, 5),\n",
       " (3, 9),\n",
       " (4, 18),\n",
       " (5, 16),\n",
       " (6, 28),\n",
       " (7, 27),\n",
       " (8, 28),\n",
       " (9, 26),\n",
       " (10, 19),\n",
       " (11, 36)]"
      ]
     },
     "execution_count": 131,
     "metadata": {},
     "output_type": "execute_result"
    }
   ],
   "source": [
    "df3 = df_lst[2]\n",
    "d3 = df3.to_dict()['Id']\n",
    "f3 = Franchise(3, list(d3.values()))\n",
    "f3.assign_values()\n",
    "sorted(values.items())"
   ]
  },
  {
   "cell_type": "code",
   "execution_count": 132,
   "metadata": {
    "collapsed": false
   },
   "outputs": [
    {
     "data": {
      "text/plain": [
       "[(1, 13),\n",
       " (2, 14),\n",
       " (3, 19),\n",
       " (4, 21),\n",
       " (5, 22),\n",
       " (6, 32),\n",
       " (7, 29),\n",
       " (8, 29),\n",
       " (9, 33),\n",
       " (10, 27),\n",
       " (11, 48)]"
      ]
     },
     "execution_count": 132,
     "metadata": {},
     "output_type": "execute_result"
    }
   ],
   "source": [
    "df4 = df_lst[3]\n",
    "d4 = df4.to_dict()['Id']\n",
    "f4 = Franchise(4, list(d4.values()))\n",
    "f4.assign_values()\n",
    "sorted(values.items())"
   ]
  },
  {
   "cell_type": "code",
   "execution_count": 133,
   "metadata": {
    "collapsed": false
   },
   "outputs": [
    {
     "data": {
      "text/plain": [
       "[(1, 18),\n",
       " (2, 18),\n",
       " (3, 22),\n",
       " (4, 23),\n",
       " (5, 23),\n",
       " (6, 42),\n",
       " (7, 38),\n",
       " (8, 37),\n",
       " (9, 40),\n",
       " (10, 33),\n",
       " (11, 60)]"
      ]
     },
     "execution_count": 133,
     "metadata": {},
     "output_type": "execute_result"
    }
   ],
   "source": [
    "df5 = df_lst[4]\n",
    "d5 = df5.to_dict()['Id']\n",
    "f5 = Franchise(5, list(d5.values()))\n",
    "f5.assign_values()\n",
    "sorted(values.items())"
   ]
  },
  {
   "cell_type": "code",
   "execution_count": 134,
   "metadata": {
    "collapsed": false
   },
   "outputs": [
    {
     "data": {
      "text/plain": [
       "[(1, 23),\n",
       " (2, 22),\n",
       " (3, 25),\n",
       " (4, 25),\n",
       " (5, 24),\n",
       " (6, 52),\n",
       " (7, 47),\n",
       " (8, 45),\n",
       " (9, 47),\n",
       " (10, 39),\n",
       " (11, 72)]"
      ]
     },
     "execution_count": 134,
     "metadata": {},
     "output_type": "execute_result"
    }
   ],
   "source": [
    "df6 = df_lst[5]\n",
    "d6 = df6.to_dict()['Id']\n",
    "f6 = Franchise(6, list(d6.values()))\n",
    "f6.assign_values()\n",
    "sorted(values.items())"
   ]
  },
  {
   "cell_type": "code",
   "execution_count": 135,
   "metadata": {
    "collapsed": false
   },
   "outputs": [
    {
     "data": {
      "text/plain": [
       "[(1, 32),\n",
       " (2, 23),\n",
       " (3, 35),\n",
       " (4, 32),\n",
       " (5, 29),\n",
       " (6, 58),\n",
       " (7, 50),\n",
       " (8, 53),\n",
       " (9, 51),\n",
       " (10, 41),\n",
       " (11, 83)]"
      ]
     },
     "execution_count": 135,
     "metadata": {},
     "output_type": "execute_result"
    }
   ],
   "source": [
    "df6 = df_lst[6]\n",
    "d6 = df6.to_dict()['Id']\n",
    "f7 = Franchise(7, list(d6.values()))\n",
    "f7.assign_values()\n",
    "sorted(values.items())"
   ]
  },
  {
   "cell_type": "code",
   "execution_count": 136,
   "metadata": {
    "collapsed": false
   },
   "outputs": [
    {
     "data": {
      "text/plain": [
       "[(1, 40),\n",
       " (2, 25),\n",
       " (3, 44),\n",
       " (4, 37),\n",
       " (5, 39),\n",
       " (6, 64),\n",
       " (7, 57),\n",
       " (8, 54),\n",
       " (9, 54),\n",
       " (10, 45),\n",
       " (11, 95)]"
      ]
     },
     "execution_count": 136,
     "metadata": {},
     "output_type": "execute_result"
    }
   ],
   "source": [
    "df6 = df_lst[7]\n",
    "d6 = df6.to_dict()['Id']\n",
    "f8 = Franchise(8, list(d6.values()))\n",
    "f8.assign_values()\n",
    "sorted(values.items())"
   ]
  },
  {
   "cell_type": "code",
   "execution_count": 137,
   "metadata": {
    "collapsed": false
   },
   "outputs": [
    {
     "data": {
      "text/plain": [
       "[(2, 25),\n",
       " (4, 37),\n",
       " (5, 39),\n",
       " (1, 40),\n",
       " (3, 44),\n",
       " (10, 45),\n",
       " (8, 54),\n",
       " (9, 54),\n",
       " (7, 57),\n",
       " (6, 64),\n",
       " (11, 95)]"
      ]
     },
     "execution_count": 137,
     "metadata": {},
     "output_type": "execute_result"
    }
   ],
   "source": [
    "sorted(values.items(), key=lambda x: x[1])"
   ]
  },
  {
   "cell_type": "code",
   "execution_count": 150,
   "metadata": {
    "collapsed": false
   },
   "outputs": [],
   "source": [
    "u_df = unsold_df.drop(unsold_df.index[[1]])"
   ]
  },
  {
   "cell_type": "code",
   "execution_count": 151,
   "metadata": {
    "collapsed": false
   },
   "outputs": [
    {
     "data": {
      "text/html": [
       "<div>\n",
       "<table border=\"1\" class=\"dataframe\">\n",
       "  <thead>\n",
       "    <tr style=\"text-align: right;\">\n",
       "      <th></th>\n",
       "      <th>Id</th>\n",
       "      <th>PlayerName</th>\n",
       "      <th>BasePrice</th>\n",
       "      <th>Type</th>\n",
       "    </tr>\n",
       "  </thead>\n",
       "  <tbody>\n",
       "    <tr>\n",
       "      <th>0</th>\n",
       "      <td>1</td>\n",
       "      <td>A B De Villiers</td>\n",
       "      <td>2000000</td>\n",
       "      <td>I</td>\n",
       "    </tr>\n",
       "    <tr>\n",
       "      <th>2</th>\n",
       "      <td>3</td>\n",
       "      <td>Ben Stokes</td>\n",
       "      <td>1000000</td>\n",
       "      <td>I</td>\n",
       "    </tr>\n",
       "    <tr>\n",
       "      <th>3</th>\n",
       "      <td>4</td>\n",
       "      <td>Chris Gayle</td>\n",
       "      <td>1000000</td>\n",
       "      <td>I</td>\n",
       "    </tr>\n",
       "    <tr>\n",
       "      <th>4</th>\n",
       "      <td>5</td>\n",
       "      <td>Jos Buttler</td>\n",
       "      <td>750000</td>\n",
       "      <td>I</td>\n",
       "    </tr>\n",
       "    <tr>\n",
       "      <th>5</th>\n",
       "      <td>6</td>\n",
       "      <td>Chris Woakes</td>\n",
       "      <td>500000</td>\n",
       "      <td>D</td>\n",
       "    </tr>\n",
       "    <tr>\n",
       "      <th>6</th>\n",
       "      <td>7</td>\n",
       "      <td>Shikhar Dhawan</td>\n",
       "      <td>500000</td>\n",
       "      <td>D</td>\n",
       "    </tr>\n",
       "    <tr>\n",
       "      <th>7</th>\n",
       "      <td>8</td>\n",
       "      <td>Ishant Sharma</td>\n",
       "      <td>350000</td>\n",
       "      <td>D</td>\n",
       "    </tr>\n",
       "    <tr>\n",
       "      <th>8</th>\n",
       "      <td>9</td>\n",
       "      <td>MS Dhoni</td>\n",
       "      <td>350000</td>\n",
       "      <td>D</td>\n",
       "    </tr>\n",
       "    <tr>\n",
       "      <th>9</th>\n",
       "      <td>10</td>\n",
       "      <td>Rajat Bhatia</td>\n",
       "      <td>200000</td>\n",
       "      <td>I</td>\n",
       "    </tr>\n",
       "    <tr>\n",
       "      <th>10</th>\n",
       "      <td>11</td>\n",
       "      <td>Imran Tahir</td>\n",
       "      <td>200000</td>\n",
       "      <td>I</td>\n",
       "    </tr>\n",
       "  </tbody>\n",
       "</table>\n",
       "</div>"
      ],
      "text/plain": [
       "    Id       PlayerName  BasePrice Type\n",
       "0    1  A B De Villiers    2000000    I\n",
       "2    3       Ben Stokes    1000000    I\n",
       "3    4      Chris Gayle    1000000    I\n",
       "4    5      Jos Buttler     750000    I\n",
       "5    6     Chris Woakes     500000    D\n",
       "6    7   Shikhar Dhawan     500000    D\n",
       "7    8    Ishant Sharma     350000    D\n",
       "8    9         MS Dhoni     350000    D\n",
       "9   10     Rajat Bhatia     200000    I\n",
       "10  11      Imran Tahir     200000    I"
      ]
     },
     "execution_count": 151,
     "metadata": {},
     "output_type": "execute_result"
    }
   ],
   "source": [
    "u_df"
   ]
  },
  {
   "cell_type": "code",
   "execution_count": 154,
   "metadata": {
    "collapsed": false,
    "scrolled": true
   },
   "outputs": [],
   "source": [
    "u_df.to_excel('Unsold.xlsx')"
   ]
  },
  {
   "cell_type": "code",
   "execution_count": null,
   "metadata": {
    "collapsed": true
   },
   "outputs": [],
   "source": []
  }
 ],
 "metadata": {
  "kernelspec": {
   "display_name": "Python 3",
   "language": "python",
   "name": "python3"
  },
  "language_info": {
   "codemirror_mode": {
    "name": "ipython",
    "version": 3
   },
   "file_extension": ".py",
   "mimetype": "text/x-python",
   "name": "python",
   "nbconvert_exporter": "python",
   "pygments_lexer": "ipython3",
   "version": "3.6.0"
  }
 },
 "nbformat": 4,
 "nbformat_minor": 2
}
